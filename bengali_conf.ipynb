{
  "nbformat": 4,
  "nbformat_minor": 0,
  "metadata": {
    "colab": {
      "provenance": []
    },
    "kernelspec": {
      "name": "python3",
      "display_name": "Python 3"
    }
  },
  "cells": [
    {
      "cell_type": "code",
      "metadata": {
        "id": "WVGmjmtBPQ9P"
      },
      "source": [
        "#pip install bnltk"
      ],
      "execution_count": null,
      "outputs": []
    },
    {
      "cell_type": "code",
      "metadata": {
        "id": "1sMvtx5lORx4"
      },
      "source": [
        "import numpy as np\n",
        "import pandas as pd\n",
        "import unicodedata\n",
        "import re\n",
        "from bs4 import BeautifulSoup\n",
        "from keras.preprocessing.text import Tokenizer\n",
        "from keras.preprocessing.sequence import pad_sequences\n",
        "from nltk.corpus import stopwords\n",
        "from tensorflow.keras.layers import Input, LSTM, Embedding, Dense, Concatenate, TimeDistributed, Bidirectional\n",
        "from tensorflow.keras.models import Model\n",
        "from tensorflow.keras.callbacks import EarlyStopping\n",
        "import warnings\n",
        "import nltk\n",
        "from keras.layers import Layer\n",
        "import keras.backend as K\n",
        "import tensorflow as tf\n",
        "import matplotlib.pyplot as plt\n",
        "import time\n",
        "import tensorflow_datasets as tfds\n",
        "import tensorflow_addons as tfa\n",
        "from sklearn.metrics import confusion_matrix\n",
        "from sklearn import preprocessing"
      ],
      "execution_count": null,
      "outputs": []
    },
    {
      "cell_type": "code",
      "metadata": {
        "id": "Hng_v-rlPXQs"
      },
      "source": [
        "#from bnltk.stemmer import BanglaStemmer\n",
        "#from bnltk.bnltk_downloads import DataFiles\n",
        "#from bnltk.tokenize import Tokenizers"
      ],
      "execution_count": null,
      "outputs": []
    },
    {
      "cell_type": "code",
      "metadata": {
        "id": "3j-ZtPtwOZYh",
        "outputId": "91a15861-7069-484e-9fcd-d01652a69ef1",
        "colab": {
          "base_uri": "https://localhost:8080/",
          "height": 34
        }
      },
      "source": [
        "from google.colab import drive\n",
        "drive.mount('/content/drive')"
      ],
      "execution_count": null,
      "outputs": [
        {
          "output_type": "stream",
          "text": [
            "Mounted at /content/drive\n"
          ],
          "name": "stdout"
        }
      ]
    },
    {
      "cell_type": "code",
      "metadata": {
        "id": "ciHKtJfEOi72"
      },
      "source": [
        "data=pd.read_excel(\"/content/drive/My Drive/Copy of abuse (2).xlsx\")"
      ],
      "execution_count": null,
      "outputs": []
    },
    {
      "cell_type": "code",
      "metadata": {
        "id": "qrZpYN6lfjPG"
      },
      "source": [
        "data1=pd.read_excel(\"/content/drive/My Drive/Copy of funny (1).xlsx\")"
      ],
      "execution_count": null,
      "outputs": []
    },
    {
      "cell_type": "code",
      "metadata": {
        "id": "N35gW37tfkPh"
      },
      "source": [
        "data2=pd.read_excel(\"/content/drive/My Drive/help.xlsx\")"
      ],
      "execution_count": null,
      "outputs": []
    },
    {
      "cell_type": "code",
      "metadata": {
        "id": "dydIBsH1fnVh"
      },
      "source": [
        "data3=pd.read_excel(\"/content/drive/My Drive/Copy of sad (1).xlsx\")"
      ],
      "execution_count": null,
      "outputs": []
    },
    {
      "cell_type": "code",
      "metadata": {
        "id": "q1EL1KYDsvbm"
      },
      "source": [],
      "execution_count": null,
      "outputs": []
    },
    {
      "cell_type": "code",
      "metadata": {
        "id": "HciyJwfdsvnx"
      },
      "source": [],
      "execution_count": null,
      "outputs": []
    },
    {
      "cell_type": "code",
      "metadata": {
        "id": "9fwnvz4ufkZ_",
        "outputId": "ac34cf3e-1577-4530-8888-51d097bdb920",
        "colab": {
          "base_uri": "https://localhost:8080/",
          "height": 419
        }
      },
      "source": [
        "dataM = pd.concat([data, data1],ignore_index=True)\n",
        "dataM"
      ],
      "execution_count": null,
      "outputs": [
        {
          "output_type": "execute_result",
          "data": {
            "text/html": [
              "<div>\n",
              "<style scoped>\n",
              "    .dataframe tbody tr th:only-of-type {\n",
              "        vertical-align: middle;\n",
              "    }\n",
              "\n",
              "    .dataframe tbody tr th {\n",
              "        vertical-align: top;\n",
              "    }\n",
              "\n",
              "    .dataframe thead th {\n",
              "        text-align: right;\n",
              "    }\n",
              "</style>\n",
              "<table border=\"1\" class=\"dataframe\">\n",
              "  <thead>\n",
              "    <tr style=\"text-align: right;\">\n",
              "      <th></th>\n",
              "      <th>Unnamed: 0</th>\n",
              "      <th>Sentences</th>\n",
              "      <th>Labels</th>\n",
              "    </tr>\n",
              "  </thead>\n",
              "  <tbody>\n",
              "    <tr>\n",
              "      <th>0</th>\n",
              "      <td>NaN</td>\n",
              "      <td>খারাপ মেয়ে ছেলে</td>\n",
              "      <td>1</td>\n",
              "    </tr>\n",
              "    <tr>\n",
              "      <th>1</th>\n",
              "      <td>NaN</td>\n",
              "      <td>এই মেয়ের চরিত্রে সমস্যা আছে</td>\n",
              "      <td>1</td>\n",
              "    </tr>\n",
              "    <tr>\n",
              "      <th>2</th>\n",
              "      <td>NaN</td>\n",
              "      <td>আপনি এত বাজে পোশাক পরেন কেন</td>\n",
              "      <td>1</td>\n",
              "    </tr>\n",
              "    <tr>\n",
              "      <th>3</th>\n",
              "      <td>NaN</td>\n",
              "      <td>আপনার মত জঘন্য গান এর আগে শুনি নি</td>\n",
              "      <td>1</td>\n",
              "    </tr>\n",
              "    <tr>\n",
              "      <th>4</th>\n",
              "      <td>NaN</td>\n",
              "      <td>চেহারা দেখে তো গাঞ্জাখোর মনে হয়</td>\n",
              "      <td>1</td>\n",
              "    </tr>\n",
              "    <tr>\n",
              "      <th>...</th>\n",
              "      <td>...</td>\n",
              "      <td>...</td>\n",
              "      <td>...</td>\n",
              "    </tr>\n",
              "    <tr>\n",
              "      <th>312</th>\n",
              "      <td>NaN</td>\n",
              "      <td>তোর মাথা খুব উর্বর জায়গা</td>\n",
              "      <td>2</td>\n",
              "    </tr>\n",
              "    <tr>\n",
              "      <th>313</th>\n",
              "      <td>NaN</td>\n",
              "      <td>আমার মাথায় তো গোবর ভরা নাই</td>\n",
              "      <td>2</td>\n",
              "    </tr>\n",
              "    <tr>\n",
              "      <th>314</th>\n",
              "      <td>NaN</td>\n",
              "      <td>শয়তানিতে আমার জীবন অতিষ্ঠ</td>\n",
              "      <td>2</td>\n",
              "    </tr>\n",
              "    <tr>\n",
              "      <th>315</th>\n",
              "      <td>NaN</td>\n",
              "      <td>জীবনে প্রথম কোনো ভালো কাজ করলে মনে হয়</td>\n",
              "      <td>2</td>\n",
              "    </tr>\n",
              "    <tr>\n",
              "      <th>316</th>\n",
              "      <td>NaN</td>\n",
              "      <td>তোর চেহারা শয়তানের মত</td>\n",
              "      <td>2</td>\n",
              "    </tr>\n",
              "  </tbody>\n",
              "</table>\n",
              "<p>317 rows × 3 columns</p>\n",
              "</div>"
            ],
            "text/plain": [
              "     Unnamed: 0                                Sentences  Labels\n",
              "0           NaN                          খারাপ মেয়ে ছেলে       1\n",
              "1           NaN              এই মেয়ের চরিত্রে সমস্যা আছে       1\n",
              "2           NaN              আপনি এত বাজে পোশাক পরেন কেন       1\n",
              "3           NaN        আপনার মত জঘন্য গান এর আগে শুনি নি       1\n",
              "4           NaN          চেহারা দেখে তো গাঞ্জাখোর মনে হয়       1\n",
              "..          ...                                      ...     ...\n",
              "312         NaN               তোর মাথা খুব উর্বর জায়গা        2\n",
              "313         NaN             আমার মাথায় তো গোবর ভরা নাই        2\n",
              "314         NaN               শয়তানিতে আমার জীবন অতিষ্ঠ       2\n",
              "315         NaN  জীবনে প্রথম কোনো ভালো কাজ করলে মনে হয়        2\n",
              "316         NaN                   তোর চেহারা শয়তানের মত       2\n",
              "\n",
              "[317 rows x 3 columns]"
            ]
          },
          "metadata": {
            "tags": []
          },
          "execution_count": 13
        }
      ]
    },
    {
      "cell_type": "code",
      "metadata": {
        "id": "rltTi-vqomfH",
        "outputId": "0b7c12ed-3f2c-4784-e243-d308ff125bee",
        "colab": {
          "base_uri": "https://localhost:8080/",
          "height": 419
        }
      },
      "source": [
        "dataM = pd.concat([dataM, data2], ignore_index=True)\n",
        "dataM"
      ],
      "execution_count": null,
      "outputs": [
        {
          "output_type": "execute_result",
          "data": {
            "text/html": [
              "<div>\n",
              "<style scoped>\n",
              "    .dataframe tbody tr th:only-of-type {\n",
              "        vertical-align: middle;\n",
              "    }\n",
              "\n",
              "    .dataframe tbody tr th {\n",
              "        vertical-align: top;\n",
              "    }\n",
              "\n",
              "    .dataframe thead th {\n",
              "        text-align: right;\n",
              "    }\n",
              "</style>\n",
              "<table border=\"1\" class=\"dataframe\">\n",
              "  <thead>\n",
              "    <tr style=\"text-align: right;\">\n",
              "      <th></th>\n",
              "      <th>Unnamed: 0</th>\n",
              "      <th>Sentences</th>\n",
              "      <th>Labels</th>\n",
              "    </tr>\n",
              "  </thead>\n",
              "  <tbody>\n",
              "    <tr>\n",
              "      <th>0</th>\n",
              "      <td>NaN</td>\n",
              "      <td>খারাপ মেয়ে ছেলে</td>\n",
              "      <td>1</td>\n",
              "    </tr>\n",
              "    <tr>\n",
              "      <th>1</th>\n",
              "      <td>NaN</td>\n",
              "      <td>এই মেয়ের চরিত্রে সমস্যা আছে</td>\n",
              "      <td>1</td>\n",
              "    </tr>\n",
              "    <tr>\n",
              "      <th>2</th>\n",
              "      <td>NaN</td>\n",
              "      <td>আপনি এত বাজে পোশাক পরেন কেন</td>\n",
              "      <td>1</td>\n",
              "    </tr>\n",
              "    <tr>\n",
              "      <th>3</th>\n",
              "      <td>NaN</td>\n",
              "      <td>আপনার মত জঘন্য গান এর আগে শুনি নি</td>\n",
              "      <td>1</td>\n",
              "    </tr>\n",
              "    <tr>\n",
              "      <th>4</th>\n",
              "      <td>NaN</td>\n",
              "      <td>চেহারা দেখে তো গাঞ্জাখোর মনে হয়</td>\n",
              "      <td>1</td>\n",
              "    </tr>\n",
              "    <tr>\n",
              "      <th>...</th>\n",
              "      <td>...</td>\n",
              "      <td>...</td>\n",
              "      <td>...</td>\n",
              "    </tr>\n",
              "    <tr>\n",
              "      <th>414</th>\n",
              "      <td>NaN</td>\n",
              "      <td>কেউ চাকরি দিয়ে সাহায্য করতে পারলে জানাবেন</td>\n",
              "      <td>3</td>\n",
              "    </tr>\n",
              "    <tr>\n",
              "      <th>415</th>\n",
              "      <td>NaN</td>\n",
              "      <td>একটি চাকরির সাহায্যের দরকার</td>\n",
              "      <td>3</td>\n",
              "    </tr>\n",
              "    <tr>\n",
              "      <th>416</th>\n",
              "      <td>NaN</td>\n",
              "      <td>টিউশনি সাহায্যের দরকার</td>\n",
              "      <td>3</td>\n",
              "    </tr>\n",
              "    <tr>\n",
              "      <th>417</th>\n",
              "      <td>NaN</td>\n",
              "      <td>কোথায় কুকুরের খাওয়া পাওয়া যায় জানতে পারলে ...</td>\n",
              "      <td>3</td>\n",
              "    </tr>\n",
              "    <tr>\n",
              "      <th>418</th>\n",
              "      <td>NaN</td>\n",
              "      <td>কোথায় পশুপাখির খাওয়া পাওয়া যায় কেউ জানাতে ...</td>\n",
              "      <td>3</td>\n",
              "    </tr>\n",
              "  </tbody>\n",
              "</table>\n",
              "<p>419 rows × 3 columns</p>\n",
              "</div>"
            ],
            "text/plain": [
              "     Unnamed: 0                                          Sentences  Labels\n",
              "0           NaN                                    খারাপ মেয়ে ছেলে       1\n",
              "1           NaN                        এই মেয়ের চরিত্রে সমস্যা আছে       1\n",
              "2           NaN                        আপনি এত বাজে পোশাক পরেন কেন       1\n",
              "3           NaN                  আপনার মত জঘন্য গান এর আগে শুনি নি       1\n",
              "4           NaN                    চেহারা দেখে তো গাঞ্জাখোর মনে হয়       1\n",
              "..          ...                                                ...     ...\n",
              "414         NaN        কেউ চাকরি দিয়ে সাহায্য করতে পারলে জানাবেন        3\n",
              "415         NaN                       একটি চাকরির সাহায্যের দরকার        3\n",
              "416         NaN                            টিউশনি সাহায্যের দরকার        3\n",
              "417         NaN  কোথায় কুকুরের খাওয়া পাওয়া যায় জানতে পারলে ...       3\n",
              "418         NaN  কোথায় পশুপাখির খাওয়া পাওয়া যায় কেউ জানাতে ...       3\n",
              "\n",
              "[419 rows x 3 columns]"
            ]
          },
          "metadata": {
            "tags": []
          },
          "execution_count": 14
        }
      ]
    },
    {
      "cell_type": "code",
      "metadata": {
        "id": "Lv12beM_oulJ",
        "outputId": "3633f895-0b33-4d32-9b67-93d4ab995882",
        "colab": {
          "base_uri": "https://localhost:8080/",
          "height": 419
        }
      },
      "source": [
        "dataM = pd.concat([dataM, data3], ignore_index=True)\n",
        "dataM"
      ],
      "execution_count": null,
      "outputs": [
        {
          "output_type": "execute_result",
          "data": {
            "text/html": [
              "<div>\n",
              "<style scoped>\n",
              "    .dataframe tbody tr th:only-of-type {\n",
              "        vertical-align: middle;\n",
              "    }\n",
              "\n",
              "    .dataframe tbody tr th {\n",
              "        vertical-align: top;\n",
              "    }\n",
              "\n",
              "    .dataframe thead th {\n",
              "        text-align: right;\n",
              "    }\n",
              "</style>\n",
              "<table border=\"1\" class=\"dataframe\">\n",
              "  <thead>\n",
              "    <tr style=\"text-align: right;\">\n",
              "      <th></th>\n",
              "      <th>Unnamed: 0</th>\n",
              "      <th>Sentences</th>\n",
              "      <th>Labels</th>\n",
              "    </tr>\n",
              "  </thead>\n",
              "  <tbody>\n",
              "    <tr>\n",
              "      <th>0</th>\n",
              "      <td>NaN</td>\n",
              "      <td>খারাপ মেয়ে ছেলে</td>\n",
              "      <td>1</td>\n",
              "    </tr>\n",
              "    <tr>\n",
              "      <th>1</th>\n",
              "      <td>NaN</td>\n",
              "      <td>এই মেয়ের চরিত্রে সমস্যা আছে</td>\n",
              "      <td>1</td>\n",
              "    </tr>\n",
              "    <tr>\n",
              "      <th>2</th>\n",
              "      <td>NaN</td>\n",
              "      <td>আপনি এত বাজে পোশাক পরেন কেন</td>\n",
              "      <td>1</td>\n",
              "    </tr>\n",
              "    <tr>\n",
              "      <th>3</th>\n",
              "      <td>NaN</td>\n",
              "      <td>আপনার মত জঘন্য গান এর আগে শুনি নি</td>\n",
              "      <td>1</td>\n",
              "    </tr>\n",
              "    <tr>\n",
              "      <th>4</th>\n",
              "      <td>NaN</td>\n",
              "      <td>চেহারা দেখে তো গাঞ্জাখোর মনে হয়</td>\n",
              "      <td>1</td>\n",
              "    </tr>\n",
              "    <tr>\n",
              "      <th>...</th>\n",
              "      <td>...</td>\n",
              "      <td>...</td>\n",
              "      <td>...</td>\n",
              "    </tr>\n",
              "    <tr>\n",
              "      <th>565</th>\n",
              "      <td>NaN</td>\n",
              "      <td>আমাকে তার কথামতো সব খারাপ কাজ করতে বাধ্য করেছে</td>\n",
              "      <td>4</td>\n",
              "    </tr>\n",
              "    <tr>\n",
              "      <th>566</th>\n",
              "      <td>NaN</td>\n",
              "      <td>এসব কথা আমার পক্ষে সহ্য করা হয়ে উঠলো না</td>\n",
              "      <td>4</td>\n",
              "    </tr>\n",
              "    <tr>\n",
              "      <th>567</th>\n",
              "      <td>NaN</td>\n",
              "      <td>অনেক কষ্টের সাথে এসব অপমান সহ্য করতে হলো</td>\n",
              "      <td>4</td>\n",
              "    </tr>\n",
              "    <tr>\n",
              "      <th>568</th>\n",
              "      <td>NaN</td>\n",
              "      <td>মুখ বুজে সব অপমান সহ্য করতে হলো</td>\n",
              "      <td>4</td>\n",
              "    </tr>\n",
              "    <tr>\n",
              "      <th>569</th>\n",
              "      <td>NaN</td>\n",
              "      <td>গলা ধাক্কা খেয়ে চলে আসতে হল</td>\n",
              "      <td>4</td>\n",
              "    </tr>\n",
              "  </tbody>\n",
              "</table>\n",
              "<p>570 rows × 3 columns</p>\n",
              "</div>"
            ],
            "text/plain": [
              "     Unnamed: 0                                       Sentences  Labels\n",
              "0           NaN                                 খারাপ মেয়ে ছেলে       1\n",
              "1           NaN                     এই মেয়ের চরিত্রে সমস্যা আছে       1\n",
              "2           NaN                     আপনি এত বাজে পোশাক পরেন কেন       1\n",
              "3           NaN               আপনার মত জঘন্য গান এর আগে শুনি নি       1\n",
              "4           NaN                 চেহারা দেখে তো গাঞ্জাখোর মনে হয়       1\n",
              "..          ...                                             ...     ...\n",
              "565         NaN  আমাকে তার কথামতো সব খারাপ কাজ করতে বাধ্য করেছে       4\n",
              "566         NaN        এসব কথা আমার পক্ষে সহ্য করা হয়ে উঠলো না       4\n",
              "567         NaN        অনেক কষ্টের সাথে এসব অপমান সহ্য করতে হলো       4\n",
              "568         NaN                মুখ বুজে সব অপমান সহ্য করতে হলো        4\n",
              "569         NaN                    গলা ধাক্কা খেয়ে চলে আসতে হল       4\n",
              "\n",
              "[570 rows x 3 columns]"
            ]
          },
          "metadata": {
            "tags": []
          },
          "execution_count": 15
        }
      ]
    },
    {
      "cell_type": "code",
      "metadata": {
        "id": "4y6EN9wxsITE",
        "outputId": "5c6ba8b7-65cc-4bff-9128-faec06b507c6",
        "colab": {
          "base_uri": "https://localhost:8080/",
          "height": 187
        }
      },
      "source": [
        "dataM.info()"
      ],
      "execution_count": null,
      "outputs": [
        {
          "output_type": "stream",
          "text": [
            "<class 'pandas.core.frame.DataFrame'>\n",
            "RangeIndex: 570 entries, 0 to 569\n",
            "Data columns (total 3 columns):\n",
            " #   Column      Non-Null Count  Dtype  \n",
            "---  ------      --------------  -----  \n",
            " 0   Unnamed: 0  0 non-null      float64\n",
            " 1   Sentences   570 non-null    object \n",
            " 2   Labels      570 non-null    int64  \n",
            "dtypes: float64(1), int64(1), object(1)\n",
            "memory usage: 13.5+ KB\n"
          ],
          "name": "stdout"
        }
      ]
    },
    {
      "cell_type": "code",
      "metadata": {
        "id": "kpDD55Q8QXeo"
      },
      "source": [
        "#dataM.reset_index()\n",
        "lines = dataM['Sentences']\n",
        "labels = dataM['Labels']"
      ],
      "execution_count": null,
      "outputs": []
    },
    {
      "cell_type": "code",
      "metadata": {
        "id": "OrDlIqtTqtrE",
        "outputId": "5b880e56-a001-4fa4-a877-386d8753bdd7",
        "colab": {
          "base_uri": "https://localhost:8080/",
          "height": 34
        }
      },
      "source": [
        "print(lines.shape)"
      ],
      "execution_count": null,
      "outputs": [
        {
          "output_type": "stream",
          "text": [
            "(570,)\n"
          ],
          "name": "stdout"
        }
      ]
    },
    {
      "cell_type": "code",
      "metadata": {
        "id": "7xjzJac5QJl7",
        "outputId": "c0ff76c6-3c0f-49bd-fa22-541ab838cc76",
        "colab": {
          "base_uri": "https://localhost:8080/",
          "height": 34
        }
      },
      "source": [
        "print(lines[0])"
      ],
      "execution_count": null,
      "outputs": [
        {
          "output_type": "stream",
          "text": [
            "খারাপ মেয়ে ছেলে\n"
          ],
          "name": "stdout"
        }
      ]
    },
    {
      "cell_type": "code",
      "metadata": {
        "id": "ANY45zq06SWm",
        "outputId": "f85d9f2f-9e29-42c8-91b9-32d1859cc330",
        "colab": {
          "base_uri": "https://localhost:8080/",
          "height": 221
        }
      },
      "source": [
        "print(labels)"
      ],
      "execution_count": null,
      "outputs": [
        {
          "output_type": "stream",
          "text": [
            "0      1\n",
            "1      1\n",
            "2      1\n",
            "3      1\n",
            "4      1\n",
            "      ..\n",
            "565    4\n",
            "566    4\n",
            "567    4\n",
            "568    4\n",
            "569    4\n",
            "Name: Labels, Length: 570, dtype: int64\n"
          ],
          "name": "stdout"
        }
      ]
    },
    {
      "cell_type": "code",
      "metadata": {
        "id": "0sqhFkf9Qtov"
      },
      "source": [
        "#######t = Tokenizers()\n",
        "#print(t.bn_word_tokenizer(line))\n",
        "#tokenized = t.bn_word_tokenizer(line)"
      ],
      "execution_count": null,
      "outputs": []
    },
    {
      "cell_type": "code",
      "metadata": {
        "id": "_giukfDOQjRq"
      },
      "source": [
        "#bn_stemmer = BanglaStemmer()\n",
        "#ls=[]\n",
        "#for line in lines:\n",
        "#  st1=\"\"\n",
        "#  tokenized = t.bn_word_tokenizer(line)\n",
        "# for str in tokenized:\n",
        "#   #print(bn_stemmer.stem(str))\n",
        "#    st1 = st1+ \" \"+bn_stemmer.stem(str)\n",
        "#  ls.append(st1)\n"
      ],
      "execution_count": null,
      "outputs": []
    },
    {
      "cell_type": "code",
      "metadata": {
        "id": "XOxJgtRbWrfN"
      },
      "source": [
        "#print(ls)"
      ],
      "execution_count": null,
      "outputs": []
    },
    {
      "cell_type": "code",
      "metadata": {
        "id": "CDLLKkXpUkCw"
      },
      "source": [
        "#print(ls[0])"
      ],
      "execution_count": null,
      "outputs": []
    },
    {
      "cell_type": "code",
      "metadata": {
        "id": "exuMgq-fXAZi"
      },
      "source": [
        "#print(len(ls))"
      ],
      "execution_count": null,
      "outputs": []
    },
    {
      "cell_type": "code",
      "metadata": {
        "id": "bOQtoQOA5yNS"
      },
      "source": [
        "#print(dataM['Labels'])"
      ],
      "execution_count": null,
      "outputs": []
    },
    {
      "cell_type": "code",
      "metadata": {
        "id": "VV7w-zMC3vx4"
      },
      "source": [
        "#newd1 = np.where(dataM['Labels'] == 1)\n",
        "#newd2 = np.where(dataM['Labels'] == 2)\n",
        "#newd3 = np.where(dataM['Labels'] == 3)\n",
        "#newd4 = np.where(dataM['Labels'] == 4)\n",
        "#print(len(data))\n",
        "#print(len(data1))\n",
        "#print(len(data2))\n",
        "#print(len(data3))"
      ],
      "execution_count": null,
      "outputs": []
    },
    {
      "cell_type": "code",
      "metadata": {
        "id": "W1t3F6fM7dX1"
      },
      "source": [
        "#print(labels[115])\n",
        "#print(labels[118])"
      ],
      "execution_count": null,
      "outputs": []
    },
    {
      "cell_type": "code",
      "metadata": {
        "id": "YondI2MsEup7"
      },
      "source": [
        "#ls[0:101]"
      ],
      "execution_count": null,
      "outputs": []
    },
    {
      "cell_type": "code",
      "metadata": {
        "id": "cm-NC7jyFXjx"
      },
      "source": [
        "#print(len(labels))"
      ],
      "execution_count": null,
      "outputs": []
    },
    {
      "cell_type": "code",
      "metadata": {
        "id": "jFga904O5eoX"
      },
      "source": [
        "#train_features=[]\n",
        "train_features = lines.iloc[0:101]\n",
        "#for i in range(116,298):\n",
        "train_features = train_features.append(lines.iloc[116:298])\n",
        "#for i in range(317,376):\n",
        "train_features = train_features.append(lines.iloc[317:376])\n",
        "#for i in range(383,520):\n",
        "train_features = train_features.append(lines.iloc[383:520])\n",
        "#train_features.append(ls[0][317:376])\n",
        "#train_features.append(ls[0][383:483])\n",
        "#train_features = train_features.append(ls[383:520])\n",
        "test_features = lines.iloc[101:116]\n",
        "#for i in range(298,317):\n",
        "test_features = test_features.append(lines.iloc[298:317])\n",
        "#for i in range(376,383):\n",
        "test_features =test_features.append(lines.iloc[376:383])\n",
        "#for i in range(520,534):\n",
        "test_features =test_features.append(lines.iloc[520:534])\n",
        "#test_features = test_features.append(feature.iloc[newd0[0][72345:77053]])\n",
        "#test_features = feature.iloc[newd[0][66708:71416]]\n",
        "#test_features = test_features.append(feature.iloc[newd0[0][72345:77053]])\n",
        "train_labels = labels[0:101]\n",
        "train_labels = train_labels.append(labels[116:298])\n",
        "train_labels = train_labels.append(labels[317:376])\n",
        "train_labels = train_labels.append(labels[383:520])\n",
        "test_labels = labels[101:116]\n",
        "test_labels = test_labels.append(labels[298:317])\n",
        "test_labels = test_labels.append(labels[376:383])\n",
        "test_labels = test_labels.append(labels[520:534])\n",
        "#train_labels = train_labels.append(label.iloc[newd0[0][0:72345]])\n",
        "#test_labels = label.iloc[newd[0][66708:]]\n",
        "#test_labels = test_labels.append(label.iloc[newd0[0][72345:]])"
      ],
      "execution_count": null,
      "outputs": []
    },
    {
      "cell_type": "code",
      "metadata": {
        "id": "tDN-B_tk-7q3",
        "outputId": "e94d82da-a2e3-456e-d76e-251e6d9ff707",
        "colab": {
          "base_uri": "https://localhost:8080/",
          "height": 34
        }
      },
      "source": [
        "print(len(train_features))"
      ],
      "execution_count": null,
      "outputs": [
        {
          "output_type": "stream",
          "text": [
            "479\n"
          ],
          "name": "stdout"
        }
      ]
    },
    {
      "cell_type": "code",
      "metadata": {
        "id": "QG90kLTo7cRF",
        "outputId": "3e580e26-5ddc-4d28-d43b-195e5524b75f",
        "colab": {
          "base_uri": "https://localhost:8080/",
          "height": 34
        }
      },
      "source": [
        "print(len(train_labels))"
      ],
      "execution_count": null,
      "outputs": [
        {
          "output_type": "stream",
          "text": [
            "479\n"
          ],
          "name": "stdout"
        }
      ]
    },
    {
      "cell_type": "code",
      "metadata": {
        "id": "gNRu9tFRXIIH",
        "outputId": "a0c1c088-2301-4cbf-f733-361183aa4854",
        "colab": {
          "base_uri": "https://localhost:8080/",
          "height": 34
        }
      },
      "source": [
        "vocab_size = 100000\n",
        "embedding_dim = 2000\n",
        "oov_token = '<unk>'\n",
        "emotion_tokenizer = tf.keras.preprocessing.text.Tokenizer(num_words=vocab_size, oov_token=oov_token)\n",
        "emotion_tokenizer.fit_on_texts(train_features)\n",
        "train_data = emotion_tokenizer.texts_to_sequences(train_features)\n",
        "print(train_data[0])"
      ],
      "execution_count": null,
      "outputs": [
        {
          "output_type": "stream",
          "text": [
            "[29, 44, 461]\n"
          ],
          "name": "stdout"
        }
      ]
    },
    {
      "cell_type": "code",
      "metadata": {
        "id": "KoHQZXdcZTmr",
        "outputId": "971e0aef-ced4-4fc6-c1bf-7cc685ab446b",
        "colab": {
          "base_uri": "https://localhost:8080/",
          "height": 34
        }
      },
      "source": [
        "train_data = tf.keras.preprocessing.sequence.pad_sequences(train_data, maxlen=10, padding='post', truncating='post')\n",
        "print(train_data[0])"
      ],
      "execution_count": null,
      "outputs": [
        {
          "output_type": "stream",
          "text": [
            "[ 29  44 461   0   0   0   0   0   0   0]\n"
          ],
          "name": "stdout"
        }
      ]
    },
    {
      "cell_type": "code",
      "metadata": {
        "id": "ra4n_GlBRU6P",
        "outputId": "666253f9-6fc5-4950-c04a-2fd5913926df",
        "colab": {
          "base_uri": "https://localhost:8080/",
          "height": 34
        }
      },
      "source": [
        "test_data = emotion_tokenizer.texts_to_sequences(test_features)\n",
        "test_data = tf.keras.preprocessing.sequence.pad_sequences(test_data, maxlen=10, padding='post', truncating='post')\n",
        "print(test_data[0])"
      ],
      "execution_count": null,
      "outputs": [
        {
          "output_type": "stream",
          "text": [
            "[  9   5 491 291 993   0   0   0   0   0]\n"
          ],
          "name": "stdout"
        }
      ]
    },
    {
      "cell_type": "code",
      "metadata": {
        "id": "6hY9wftlaYy6"
      },
      "source": [
        "class BahdanauAttention(tf.keras.layers.Layer):\n",
        "    def __init__(self, units):\n",
        "        super(BahdanauAttention, self).__init__()\n",
        "        self.W1 = tf.keras.layers.Dense(units)\n",
        "        self.W2 = tf.keras.layers.Dense(units)\n",
        "        self.V = tf.keras.layers.Dense(1)\n",
        "    def call(self, query, values):\n",
        "        query_with_time_axis = tf.expand_dims(query, 1)\n",
        "        score = self.V(tf.nn.tanh( self.W1(query_with_time_axis) + self.W2(values)))\n",
        "        attention_weights = tf.nn.softmax(score, axis=1)\n",
        "        context_vector = attention_weights * values\n",
        "        context_vector = tf.reduce_sum(context_vector, axis=1)\n",
        "        return context_vector, attention_weights"
      ],
      "execution_count": null,
      "outputs": []
    },
    {
      "cell_type": "code",
      "metadata": {
        "id": "ArjKc5w0anpQ",
        "outputId": "b05412b5-4b64-4102-b48c-00bd1391a1ed",
        "colab": {
          "base_uri": "https://localhost:8080/",
          "height": 629
        }
      },
      "source": [
        "from keras import backend as K\n",
        "K.clear_session()\n",
        "latent_dim = 500\n",
        "\n",
        "# Encoder\n",
        "encoder_inputs = tf.keras.layers.Input(shape=(10,))\n",
        "enc_emb =tf.keras.layers.Embedding(vocab_size, embedding_dim, input_length=10)(encoder_inputs)\n",
        "\n",
        "#LSTM 1\n",
        "encoder_lstm1 = tf.keras.layers.Conv1D(128, 3, activation='relu')\n",
        "encoder_output1 = encoder_lstm1(enc_emb)\n",
        "\n",
        "#LSTM 2\n",
        "encoder_lstm2 = tf.keras.layers.GlobalMaxPooling1D()\n",
        "encoder_output2 = encoder_lstm2(encoder_output1)\n",
        "\n",
        "encoder_output20 = encoder_output2[:,None,:]\n",
        "decoder_lstm1 = tf.keras.layers.LSTM(20, return_sequences=True, return_state=True)\n",
        "decoder_outputs1,decoder_fwd_state, decoder_back_state = decoder_lstm1(encoder_output20)\n",
        "\n",
        "attn_layer = BahdanauAttention(10)\n",
        "attn_out, attn_states = attn_layer(decoder_fwd_state,decoder_outputs1)\n",
        "#attn_layer(encoder_output2)\n",
        "\n",
        "midlayer = tf.keras.layers.GRU(20, return_sequences=True, return_state=True)\n",
        "mid_out,_ = midlayer(encoder_output20)\n",
        "\n",
        "\n",
        "\n",
        "decoder_concat_input = Concatenate(axis=-1, name='concat_layer')([tf.squeeze(mid_out,[1]), attn_out])\n",
        "#LSTM 3\n",
        "encoder_lstm3=tf.keras.layers.Dense(24, activation='relu',kernel_regularizer=tf.keras.regularizers.l1_l2(l1=0.01, l2=0.1))\n",
        "encoder_outputs= encoder_lstm3(decoder_concat_input)\n",
        "\n",
        "encoder_lstm7=tf.keras.layers.Dropout(0.4)\n",
        "enc_new = encoder_lstm7(encoder_outputs)\n",
        "\n",
        "decoder_lstm = tf.keras.layers.Dense(4, activation='softmax', kernel_regularizer=tf.keras.regularizers.l2(0.01))\n",
        "decoder_outputs = decoder_lstm(enc_new)\n",
        "\n",
        "# Set up the decoder.\n",
        "#decoder_inputs = Input(shape=(None,))\n",
        "#dec_emb_layer = Embedding(y_voc_size, latent_dim,trainable=True)\n",
        "#dec_emb = dec_emb_layer(decoder_inputs)\n",
        "\n",
        "#LSTM using encoder_states as initial state\n",
        "#decoder_lstm = LSTM(latent_dim, return_sequences=True, return_state=True)\n",
        "#decoder_outputs,decoder_fwd_state, decoder_back_state = decoder_lstm(dec_emb,initial_state=[state_h, state_c])\n",
        "\n",
        "#Attention Layer\n",
        "#Attention layer attn_layer = AttentionLayer(name='attention_layer')\n",
        "#attn_out, attn_states = attn_layer([encoder_outputs, decoder_outputs])\n",
        "\n",
        "# Concat attention output and decoder LSTM output\n",
        "#decoder_concat_input = Concatenate(axis=-1, name='concat_layer')([decoder_outputs, attn_out])\n",
        "\n",
        "#Dense layer\n",
        "#decoder_dense = TimeDistributed(Dense(y_voc_size, activation='softmax'))\n",
        "#decoder_outputs = decoder_dense(decoder_concat_input)\n",
        "\n",
        "# Define the model\n",
        "model = Model(encoder_inputs, decoder_outputs)\n",
        "model.summary()"
      ],
      "execution_count": null,
      "outputs": [
        {
          "output_type": "stream",
          "text": [
            "Model: \"functional_1\"\n",
            "__________________________________________________________________________________________________\n",
            "Layer (type)                    Output Shape         Param #     Connected to                     \n",
            "==================================================================================================\n",
            "input_1 (InputLayer)            [(None, 10)]         0                                            \n",
            "__________________________________________________________________________________________________\n",
            "embedding (Embedding)           (None, 10, 2000)     200000000   input_1[0][0]                    \n",
            "__________________________________________________________________________________________________\n",
            "conv1d (Conv1D)                 (None, 8, 128)       768128      embedding[0][0]                  \n",
            "__________________________________________________________________________________________________\n",
            "global_max_pooling1d (GlobalMax (None, 128)          0           conv1d[0][0]                     \n",
            "__________________________________________________________________________________________________\n",
            "tf_op_layer_strided_slice (Tens [(None, 1, 128)]     0           global_max_pooling1d[0][0]       \n",
            "__________________________________________________________________________________________________\n",
            "gru (GRU)                       [(None, 1, 20), (Non 9000        tf_op_layer_strided_slice[0][0]  \n",
            "__________________________________________________________________________________________________\n",
            "lstm (LSTM)                     [(None, 1, 20), (Non 11920       tf_op_layer_strided_slice[0][0]  \n",
            "__________________________________________________________________________________________________\n",
            "tf_op_layer_Squeeze (TensorFlow [(None, 20)]         0           gru[0][0]                        \n",
            "__________________________________________________________________________________________________\n",
            "bahdanau_attention (BahdanauAtt ((None, 20), (None,  431         lstm[0][1]                       \n",
            "                                                                 lstm[0][0]                       \n",
            "__________________________________________________________________________________________________\n",
            "concat_layer (Concatenate)      (None, 40)           0           tf_op_layer_Squeeze[0][0]        \n",
            "                                                                 bahdanau_attention[0][0]         \n",
            "__________________________________________________________________________________________________\n",
            "dense_3 (Dense)                 (None, 24)           984         concat_layer[0][0]               \n",
            "__________________________________________________________________________________________________\n",
            "dropout (Dropout)               (None, 24)           0           dense_3[0][0]                    \n",
            "__________________________________________________________________________________________________\n",
            "dense_4 (Dense)                 (None, 4)            100         dropout[0][0]                    \n",
            "==================================================================================================\n",
            "Total params: 200,790,563\n",
            "Trainable params: 200,790,563\n",
            "Non-trainable params: 0\n",
            "__________________________________________________________________________________________________\n"
          ],
          "name": "stdout"
        }
      ]
    },
    {
      "cell_type": "code",
      "metadata": {
        "id": "_cro_mCQap0Y",
        "outputId": "dd3692d1-a290-407f-f4e0-db7b4f0b921e",
        "colab": {
          "base_uri": "https://localhost:8080/",
          "height": 54
        }
      },
      "source": [
        "checkpoint_path = \"training_bengali/cp-{epoch:04d}.ckpt\"\n",
        "#checkpoint_dir = path.dirname(checkpoint_path)\n",
        "#\"./checkpoints/train\"\n",
        "\n",
        "# Create a callback that saves the model's weights every 5 epochs\n",
        "cp_callback = tf.keras.callbacks.ModelCheckpoint(\n",
        "    filepath=checkpoint_path,\n",
        "    verbose=1,\n",
        "    save_weights_only=True,\n",
        "    period=1)\n",
        "\n",
        "# Create a new model instance\n",
        "\n",
        "# Save the weights using the `checkpoint_path` format\n",
        "model.save_weights(checkpoint_path.format(epoch=0))\n"
      ],
      "execution_count": null,
      "outputs": [
        {
          "output_type": "stream",
          "text": [
            "WARNING:tensorflow:`period` argument is deprecated. Please use `save_freq` to specify the frequency in number of batches seen.\n"
          ],
          "name": "stdout"
        }
      ]
    },
    {
      "cell_type": "code",
      "metadata": {
        "id": "T9kxaFwnavVn"
      },
      "source": [
        "model.compile(loss='categorical_crossentropy',optimizer='adam',metrics=['accuracy'])"
      ],
      "execution_count": null,
      "outputs": []
    },
    {
      "cell_type": "code",
      "metadata": {
        "id": "8obW55muhyQP"
      },
      "source": [
        "train_labels=train_labels.map({1: 0,2: 3, 3: 2, 4: 1})\n",
        "test_labels=test_labels.map({1: 0,2: 3, 3: 2, 4: 1})"
      ],
      "execution_count": null,
      "outputs": []
    },
    {
      "cell_type": "code",
      "metadata": {
        "id": "ulcUCtJQbFER",
        "outputId": "f1a0d111-3125-4f68-fb3c-8d592c1be662",
        "colab": {
          "base_uri": "https://localhost:8080/",
          "height": 85
        }
      },
      "source": [
        "print(train_data.shape)\n",
        "print(test_data.shape)\n",
        "print(train_labels.shape)\n",
        "print(test_labels.shape)"
      ],
      "execution_count": null,
      "outputs": [
        {
          "output_type": "stream",
          "text": [
            "(479, 10)\n",
            "(55, 10)\n",
            "(479,)\n",
            "(55,)\n"
          ],
          "name": "stdout"
        }
      ]
    },
    {
      "cell_type": "code",
      "metadata": {
        "id": "7fzcugzuazGF"
      },
      "source": [
        "train_labels1=tf.one_hot(train_labels,depth=4)\n",
        "test_labels1= tf.one_hot(test_labels, depth=4)"
      ],
      "execution_count": null,
      "outputs": []
    },
    {
      "cell_type": "code",
      "metadata": {
        "id": "9mfQLUjLa4sp",
        "outputId": "c9ef8d17-f1a2-4b1d-b078-a021463a3d07",
        "colab": {
          "base_uri": "https://localhost:8080/",
          "height": 1000
        }
      },
      "source": [
        "num_epochs = 33\n",
        "history = model.fit(train_data, train_labels1, epochs=num_epochs,callbacks=[cp_callback],validation_data=(test_data, test_labels1), verbose=2)"
      ],
      "execution_count": null,
      "outputs": [
        {
          "output_type": "stream",
          "text": [
            "Epoch 1/33\n",
            "\n",
            "Epoch 00001: saving model to training_bengali/cp-0001.ckpt\n",
            "15/15 - 44s - loss: 5.4017 - accuracy: 0.3946 - val_loss: 5.0723 - val_accuracy: 0.3636\n",
            "Epoch 2/33\n",
            "\n",
            "Epoch 00002: saving model to training_bengali/cp-0002.ckpt\n",
            "15/15 - 37s - loss: 4.6763 - accuracy: 0.5553 - val_loss: 4.4611 - val_accuracy: 0.4364\n",
            "Epoch 3/33\n",
            "\n",
            "Epoch 00003: saving model to training_bengali/cp-0003.ckpt\n",
            "15/15 - 37s - loss: 3.9147 - accuracy: 0.7307 - val_loss: 3.8746 - val_accuracy: 0.5818\n",
            "Epoch 4/33\n",
            "\n",
            "Epoch 00004: saving model to training_bengali/cp-0004.ckpt\n",
            "15/15 - 37s - loss: 3.2122 - accuracy: 0.9123 - val_loss: 3.3140 - val_accuracy: 0.7455\n",
            "Epoch 5/33\n",
            "\n",
            "Epoch 00005: saving model to training_bengali/cp-0005.ckpt\n",
            "15/15 - 36s - loss: 2.7174 - accuracy: 0.9478 - val_loss: 2.9128 - val_accuracy: 0.8000\n",
            "Epoch 6/33\n",
            "\n",
            "Epoch 00006: saving model to training_bengali/cp-0006.ckpt\n",
            "15/15 - 36s - loss: 2.3112 - accuracy: 0.9791 - val_loss: 2.5971 - val_accuracy: 0.8000\n",
            "Epoch 7/33\n",
            "\n",
            "Epoch 00007: saving model to training_bengali/cp-0007.ckpt\n",
            "15/15 - 36s - loss: 2.0491 - accuracy: 0.9645 - val_loss: 2.3295 - val_accuracy: 0.8000\n",
            "Epoch 8/33\n",
            "\n",
            "Epoch 00008: saving model to training_bengali/cp-0008.ckpt\n",
            "15/15 - 36s - loss: 1.7727 - accuracy: 0.9875 - val_loss: 2.1165 - val_accuracy: 0.8000\n",
            "Epoch 9/33\n",
            "\n",
            "Epoch 00009: saving model to training_bengali/cp-0009.ckpt\n",
            "15/15 - 36s - loss: 1.6040 - accuracy: 0.9854 - val_loss: 1.9334 - val_accuracy: 0.8000\n",
            "Epoch 10/33\n",
            "\n",
            "Epoch 00010: saving model to training_bengali/cp-0010.ckpt\n",
            "15/15 - 36s - loss: 1.4223 - accuracy: 0.9854 - val_loss: 1.7805 - val_accuracy: 0.8000\n",
            "Epoch 11/33\n",
            "\n",
            "Epoch 00011: saving model to training_bengali/cp-0011.ckpt\n",
            "15/15 - 36s - loss: 1.2662 - accuracy: 0.9854 - val_loss: 1.6510 - val_accuracy: 0.8182\n",
            "Epoch 12/33\n",
            "\n",
            "Epoch 00012: saving model to training_bengali/cp-0012.ckpt\n",
            "15/15 - 36s - loss: 1.1461 - accuracy: 0.9875 - val_loss: 1.5335 - val_accuracy: 0.8000\n",
            "Epoch 13/33\n",
            "\n",
            "Epoch 00013: saving model to training_bengali/cp-0013.ckpt\n",
            "15/15 - 36s - loss: 1.0347 - accuracy: 0.9833 - val_loss: 1.4386 - val_accuracy: 0.8182\n",
            "Epoch 14/33\n",
            "\n",
            "Epoch 00014: saving model to training_bengali/cp-0014.ckpt\n",
            "15/15 - 36s - loss: 0.9460 - accuracy: 0.9916 - val_loss: 1.3558 - val_accuracy: 0.8182\n",
            "Epoch 15/33\n",
            "\n",
            "Epoch 00015: saving model to training_bengali/cp-0015.ckpt\n",
            "15/15 - 36s - loss: 0.8511 - accuracy: 0.9937 - val_loss: 1.2842 - val_accuracy: 0.8182\n",
            "Epoch 16/33\n",
            "\n",
            "Epoch 00016: saving model to training_bengali/cp-0016.ckpt\n",
            "15/15 - 36s - loss: 0.8000 - accuracy: 0.9916 - val_loss: 1.2272 - val_accuracy: 0.8182\n",
            "Epoch 17/33\n",
            "\n",
            "Epoch 00017: saving model to training_bengali/cp-0017.ckpt\n",
            "15/15 - 36s - loss: 0.7544 - accuracy: 0.9916 - val_loss: 1.1730 - val_accuracy: 0.8182\n",
            "Epoch 18/33\n",
            "\n",
            "Epoch 00018: saving model to training_bengali/cp-0018.ckpt\n",
            "15/15 - 36s - loss: 0.6965 - accuracy: 0.9896 - val_loss: 1.1327 - val_accuracy: 0.8182\n",
            "Epoch 19/33\n",
            "\n",
            "Epoch 00019: saving model to training_bengali/cp-0019.ckpt\n",
            "15/15 - 36s - loss: 0.6615 - accuracy: 0.9791 - val_loss: 1.0978 - val_accuracy: 0.8182\n",
            "Epoch 20/33\n",
            "\n",
            "Epoch 00020: saving model to training_bengali/cp-0020.ckpt\n",
            "15/15 - 36s - loss: 0.6205 - accuracy: 0.9958 - val_loss: 1.0709 - val_accuracy: 0.8182\n",
            "Epoch 21/33\n",
            "\n",
            "Epoch 00021: saving model to training_bengali/cp-0021.ckpt\n",
            "15/15 - 36s - loss: 0.5848 - accuracy: 0.9854 - val_loss: 1.0519 - val_accuracy: 0.8182\n",
            "Epoch 22/33\n",
            "\n",
            "Epoch 00022: saving model to training_bengali/cp-0022.ckpt\n",
            "15/15 - 36s - loss: 0.5866 - accuracy: 0.9854 - val_loss: 1.0310 - val_accuracy: 0.8182\n",
            "Epoch 23/33\n",
            "\n",
            "Epoch 00023: saving model to training_bengali/cp-0023.ckpt\n",
            "15/15 - 36s - loss: 0.5384 - accuracy: 0.9937 - val_loss: 1.0142 - val_accuracy: 0.8182\n",
            "Epoch 24/33\n",
            "\n",
            "Epoch 00024: saving model to training_bengali/cp-0024.ckpt\n",
            "15/15 - 36s - loss: 0.5229 - accuracy: 0.9958 - val_loss: 1.0012 - val_accuracy: 0.8182\n",
            "Epoch 25/33\n",
            "\n",
            "Epoch 00025: saving model to training_bengali/cp-0025.ckpt\n",
            "15/15 - 40s - loss: 0.5129 - accuracy: 0.9896 - val_loss: 0.9880 - val_accuracy: 0.8182\n",
            "Epoch 26/33\n",
            "\n",
            "Epoch 00026: saving model to training_bengali/cp-0026.ckpt\n",
            "15/15 - 36s - loss: 0.5035 - accuracy: 0.9937 - val_loss: 0.9808 - val_accuracy: 0.8182\n",
            "Epoch 27/33\n",
            "\n",
            "Epoch 00027: saving model to training_bengali/cp-0027.ckpt\n",
            "15/15 - 36s - loss: 0.4945 - accuracy: 0.9875 - val_loss: 0.9750 - val_accuracy: 0.8182\n",
            "Epoch 28/33\n",
            "\n",
            "Epoch 00028: saving model to training_bengali/cp-0028.ckpt\n",
            "15/15 - 36s - loss: 0.4849 - accuracy: 0.9896 - val_loss: 0.9691 - val_accuracy: 0.8182\n",
            "Epoch 29/33\n",
            "\n",
            "Epoch 00029: saving model to training_bengali/cp-0029.ckpt\n",
            "15/15 - 36s - loss: 0.4678 - accuracy: 0.9958 - val_loss: 0.9594 - val_accuracy: 0.8182\n",
            "Epoch 30/33\n",
            "\n",
            "Epoch 00030: saving model to training_bengali/cp-0030.ckpt\n",
            "15/15 - 36s - loss: 0.4734 - accuracy: 0.9937 - val_loss: 0.9575 - val_accuracy: 0.8182\n",
            "Epoch 31/33\n",
            "\n",
            "Epoch 00031: saving model to training_bengali/cp-0031.ckpt\n",
            "15/15 - 36s - loss: 0.4627 - accuracy: 0.9875 - val_loss: 0.9567 - val_accuracy: 0.8182\n",
            "Epoch 32/33\n",
            "\n",
            "Epoch 00032: saving model to training_bengali/cp-0032.ckpt\n",
            "15/15 - 36s - loss: 0.4494 - accuracy: 0.9958 - val_loss: 0.9549 - val_accuracy: 0.8182\n",
            "Epoch 33/33\n",
            "\n",
            "Epoch 00033: saving model to training_bengali/cp-0033.ckpt\n",
            "15/15 - 37s - loss: 0.4415 - accuracy: 0.9916 - val_loss: 0.9486 - val_accuracy: 0.8182\n"
          ],
          "name": "stdout"
        }
      ]
    },
    {
      "cell_type": "code",
      "metadata": {
        "id": "gu_6zCm9YAPi",
        "outputId": "ccf5ac60-dbcf-4cca-ffc9-cc4913f2287b",
        "colab": {
          "base_uri": "https://localhost:8080/",
          "height": 1000
        }
      },
      "source": [
        "model.load_weights(\"training_bengali/cp-0033.ckpt\")\n",
        "n= model.predict(test_data)\n",
        "n = np.argmax(n,axis=1)\n",
        "print(n)\n",
        "print(test_labels)\n",
        "con_mat = tf.math.confusion_matrix(K.flatten(test_labels), K.flatten(n)).numpy()\n",
        "classes=[0,1,2,3]\n",
        "con_mat_norm = np.around(con_mat.astype('float') / con_mat.sum(axis=1)[:, np.newaxis], decimals=2)\n",
        "print(con_mat_norm.shape)\n",
        "con_mat_df = pd.DataFrame(con_mat_norm,\n",
        "                     index = classes,\n",
        "                     columns = classes)\n",
        "import seaborn as sns\n",
        "figure = plt.figure(figsize=(5, 5))\n",
        "sns.heatmap(con_mat_df, annot=True,cmap=plt.cm.Blues)\n",
        "plt.tight_layout()\n",
        "plt.ylabel('True label')\n",
        "plt.xlabel('Predicted label')\n",
        "plt.show()"
      ],
      "execution_count": null,
      "outputs": [
        {
          "output_type": "stream",
          "text": [
            "[0 0 0 0 0 3 0 0 0 0 0 0 0 0 0 3 3 3 3 3 3 3 3 3 3 3 3 3 0 3 3 3 1 0 2 3 3\n",
            " 2 2 1 2 1 1 1 1 1 1 1 3 1 1 1 3 3 1]\n",
            "101    0\n",
            "102    0\n",
            "103    0\n",
            "104    0\n",
            "105    0\n",
            "106    0\n",
            "107    0\n",
            "108    0\n",
            "109    0\n",
            "110    0\n",
            "111    0\n",
            "112    0\n",
            "113    0\n",
            "114    0\n",
            "115    0\n",
            "298    3\n",
            "299    3\n",
            "300    3\n",
            "301    3\n",
            "302    3\n",
            "303    3\n",
            "304    3\n",
            "305    3\n",
            "306    3\n",
            "307    3\n",
            "308    3\n",
            "309    3\n",
            "310    3\n",
            "311    3\n",
            "312    3\n",
            "313    3\n",
            "314    3\n",
            "315    3\n",
            "316    3\n",
            "376    2\n",
            "377    2\n",
            "378    2\n",
            "379    2\n",
            "380    2\n",
            "381    2\n",
            "382    2\n",
            "520    1\n",
            "521    1\n",
            "522    1\n",
            "523    1\n",
            "524    1\n",
            "525    1\n",
            "526    1\n",
            "527    1\n",
            "528    1\n",
            "529    1\n",
            "530    1\n",
            "531    1\n",
            "532    1\n",
            "533    1\n",
            "Name: Labels, dtype: int64\n",
            "(4, 4)\n"
          ],
          "name": "stdout"
        },
        {
          "output_type": "display_data",
          "data": {
            "image/png": "[encoded data removed]",
            "text/plain": [
              "<Figure size 360x360 with 2 Axes>"
            ]
          },
          "metadata": {
            "tags": [],
            "needs_background": "light"
          }
        }
      ]
    },
    {
      "cell_type": "code",
      "metadata": {
        "id": "DfPV1Q2qJDq1",
        "outputId": "e5a667ca-02a6-4cfd-c7e6-01bd0282ac33",
        "colab": {
          "base_uri": "https://localhost:8080/",
          "height": 541
        }
      },
      "source": [
        "import matplotlib.pyplot as plt\n",
        "\n",
        "\n",
        "def plot_graphs(history, string):\n",
        "  plt.plot(history.history[string])\n",
        "  plt.plot(history.history['val_'+string])\n",
        "  plt.xlabel(\"Epochs\")\n",
        "  plt.ylabel(string)\n",
        "  #plt.legend([string, 'val_'+string])\n",
        "  plt.show()\n",
        "\n",
        "plot_graphs(history, \"accuracy\")\n",
        "plot_graphs(history, \"loss\")"
      ],
      "execution_count": null,
      "outputs": [
        {
          "output_type": "display_data",
          "data": {
            "image/png": "[encoded data removed]",
            "text/plain": [
              "<Figure size 432x288 with 1 Axes>"
            ]
          },
          "metadata": {
            "tags": [],
            "needs_background": "light"
          }
        },
        {
          "output_type": "display_data",
          "data": {
            "image/png": "[encoded data removed]",
            "text/plain": [
              "<Figure size 432x288 with 1 Axes>"
            ]
          },
          "metadata": {
            "tags": [],
            "needs_background": "light"
          }
        }
      ]
    }
  ]
}